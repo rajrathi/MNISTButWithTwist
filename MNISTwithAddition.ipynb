{
 "cells": [
  {
   "attachments": {},
   "cell_type": "markdown",
   "metadata": {},
   "source": [
    "### Importing required libraries"
   ]
  },
  {
   "cell_type": "code",
   "execution_count": 2,
   "metadata": {},
   "outputs": [],
   "source": [
    "import torch\n",
    "from torch.utils.data import Dataset\n",
    "import torchvision #provide access to datasets, models, transforms, utils, etc\n",
    "import torchvision.transforms as transforms\n",
    "import torch.nn as nn\n",
    "import torch.nn.functional as F\n",
    "import matplotlib.pyplot as plt"
   ]
  },
  {
   "cell_type": "code",
   "execution_count": 3,
   "metadata": {},
   "outputs": [],
   "source": [
    "EPOCH = 20\n",
    "BATCH_SIZE = 32"
   ]
  },
  {
   "cell_type": "code",
   "execution_count": 4,
   "metadata": {},
   "outputs": [],
   "source": [
    "mnist_train_set = torchvision.datasets.MNIST(\n",
    "            root='./try1',\n",
    "            train=True,\n",
    "            download=True,\n",
    "            transform=transforms.Compose([\n",
    "                transforms.ToTensor()\n",
    "            ])\n",
    "        )"
   ]
  },
  {
   "cell_type": "code",
   "execution_count": 5,
   "metadata": {},
   "outputs": [
    {
     "data": {
      "text/plain": [
       "tensor([11,  8,  8,  ..., 13,  8,  8])"
      ]
     },
     "execution_count": 5,
     "metadata": {},
     "output_type": "execute_result"
    }
   ],
   "source": [
    "# trying the sum of 60000 random integers with labels of train dataset of mnist\n",
    "sum_labels = mnist_train_set.targets + torch.randint(0, 9, (1, 60000)).squeeze()\n",
    "sum_labels\n",
    "# torch.stack((mnist_train_set.targets, sum_labels), dim=1)"
   ]
  },
  {
   "cell_type": "code",
   "execution_count": 6,
   "metadata": {},
   "outputs": [
    {
     "data": {
      "text/plain": [
       "torch.float32"
      ]
     },
     "execution_count": 6,
     "metadata": {},
     "output_type": "execute_result"
    }
   ],
   "source": [
    "sample = next(iter(mnist_train_set))\n",
    "image, label = sample\n",
    "image.dtype"
   ]
  },
  {
   "cell_type": "code",
   "execution_count": 7,
   "metadata": {},
   "outputs": [
    {
     "name": "stdout",
     "output_type": "stream",
     "text": [
      "label: 5\n"
     ]
    },
    {
     "data": {
      "image/png": "[encoded data removed]",
      "text/plain": [
       "<Figure size 640x480 with 1 Axes>"
      ]
     },
     "metadata": {},
     "output_type": "display_data"
    }
   ],
   "source": [
    "plt.imshow(image.squeeze(), cmap='gray')\n",
    "print('label:', label)"
   ]
  },
  {
   "cell_type": "code",
   "execution_count": 8,
   "metadata": {},
   "outputs": [
    {
     "data": {
      "text/plain": [
       "60000"
      ]
     },
     "execution_count": 8,
     "metadata": {},
     "output_type": "execute_result"
    }
   ],
   "source": [
    "len(mnist_train_set.data)"
   ]
  },
  {
   "cell_type": "code",
   "execution_count": 9,
   "metadata": {},
   "outputs": [
    {
     "data": {
      "text/plain": [
       "tensor(3)"
      ]
     },
     "execution_count": 9,
     "metadata": {},
     "output_type": "execute_result"
    }
   ],
   "source": [
    "rn = torch.randint(0, 9, (1, 60000)).squeeze()\n",
    "rn[1]"
   ]
  },
  {
   "attachments": {},
   "cell_type": "markdown",
   "metadata": {},
   "source": [
    "#### Converting sum_labels into binary represatation tensors "
   ]
  },
  {
   "cell_type": "code",
   "execution_count": 10,
   "metadata": {},
   "outputs": [
    {
     "data": {
      "text/plain": [
       "tensor([0.3333, 0.0000, 0.3333, 0.3333, 0.0000])"
      ]
     },
     "execution_count": 10,
     "metadata": {},
     "output_type": "execute_result"
    }
   ],
   "source": [
    "def to_binary(num):\n",
    "    binary = torch.zeros((5,), dtype=torch.float32)\n",
    "    i = 0\n",
    "    while(num != 0):\n",
    "        if num % 2 == 1:\n",
    "            binary[i] = 1.0\n",
    "        num = torch.div(num, 2, rounding_mode='trunc')\n",
    "        i +=1\n",
    "    ones = (binary == 1.0).sum(dim=0)\n",
    "    \n",
    "    if ones == 2:\n",
    "        binary /= 2.0\n",
    "    if ones == 3:\n",
    "        binary /= 3.0\n",
    "    if ones == 4:\n",
    "        binary /= 4.0\n",
    "\n",
    "    return binary\n",
    "\n",
    "to_binary(13)"
   ]
  },
  {
   "cell_type": "code",
   "execution_count": 11,
   "metadata": {},
   "outputs": [],
   "source": [
    "class MNISTWithNumbers(Dataset):\n",
    "\n",
    "    def __init__(self):\n",
    "\n",
    "        self.mnist_data = torchvision.datasets.MNIST(\n",
    "            root='./data',\n",
    "            train=True,\n",
    "            download=True,\n",
    "            transform=transforms.Compose([\n",
    "                transforms.ToTensor()\n",
    "            ])\n",
    "        )\n",
    "\n",
    "        self.random_numbers = torch.randint(0, 9, (1, len(self.mnist_data.targets))).squeeze()\n",
    "        self.numbers = torch.zeros((len(self.mnist_data.targets), 10))\n",
    "        for i in range(len(self.mnist_data.targets)):\n",
    "            self.numbers[i][self.random_numbers[i]] = 1\n",
    "\n",
    "\n",
    "    def __getitem__(self, index):\n",
    "\n",
    "        sample = self.mnist_data[index]\n",
    "        image = sample[0]\n",
    "        label = torch.tensor(sample[1])\n",
    "        number = self.numbers[index]\n",
    "        sum_ = label + self.random_numbers[index]\n",
    "        sum_label = to_binary(sum_)\n",
    "        \n",
    "        return image, label, number, sum_label\n",
    "\n",
    "    def __len__(self):\n",
    "        return len(self.mnist_data.data)\n",
    "    \n",
    "    @property\n",
    "    def train_labels(self):\n",
    "        \n",
    "        sum_labels = self.mnist_data.targets + self.random_numbers\n",
    "        return self.mnist_data.targets, sum_labels\n"
   ]
  },
  {
   "cell_type": "code",
   "execution_count": 12,
   "metadata": {},
   "outputs": [],
   "source": [
    "mnist_with_numbers = MNISTWithNumbers()"
   ]
  },
  {
   "cell_type": "code",
   "execution_count": 13,
   "metadata": {},
   "outputs": [
    {
     "data": {
      "text/plain": [
       "(torch.Size([60000]), torch.Size([60000]))"
      ]
     },
     "execution_count": 13,
     "metadata": {},
     "output_type": "execute_result"
    }
   ],
   "source": [
    "targets, sum_labels = mnist_with_numbers.train_labels\n",
    "targets.shape, sum_labels.shape"
   ]
  },
  {
   "cell_type": "code",
   "execution_count": 14,
   "metadata": {},
   "outputs": [
    {
     "data": {
      "text/plain": [
       "(torch.Size([1, 28, 28]), torch.Size([]), torch.Size([10]), torch.Size([5]))"
      ]
     },
     "execution_count": 14,
     "metadata": {},
     "output_type": "execute_result"
    }
   ],
   "source": [
    "sample = next(iter(mnist_with_numbers))\n",
    "image, label, number, sum_label = sample\n",
    "image.shape, label.shape, number.shape, sum_label.shape"
   ]
  },
  {
   "cell_type": "code",
   "execution_count": 15,
   "metadata": {},
   "outputs": [
    {
     "data": {
      "text/plain": [
       "(tensor([1., 0., 0., 0., 0., 0., 0., 0., 0., 0.]),\n",
       " tensor([0.5000, 0.0000, 0.5000, 0.0000, 0.0000]),\n",
       " tensor(5))"
      ]
     },
     "execution_count": 15,
     "metadata": {},
     "output_type": "execute_result"
    }
   ],
   "source": [
    "number, sum_label, label"
   ]
  },
  {
   "cell_type": "code",
   "execution_count": 16,
   "metadata": {},
   "outputs": [],
   "source": [
    "train_data_loader = torch.utils.data.DataLoader(\n",
    "    mnist_with_numbers,\n",
    "    batch_size=BATCH_SIZE,\n",
    "    shuffle=True\n",
    ")"
   ]
  },
  {
   "cell_type": "code",
   "execution_count": 17,
   "metadata": {},
   "outputs": [
    {
     "data": {
      "text/plain": [
       "(torch.Size([32, 1, 28, 28]),\n",
       " torch.Size([32]),\n",
       " torch.Size([32, 10]),\n",
       " torch.Size([32, 5]))"
      ]
     },
     "execution_count": 17,
     "metadata": {},
     "output_type": "execute_result"
    }
   ],
   "source": [
    "batch = next(iter(train_data_loader))\n",
    "images, labels, numbers, sum_labels = batch\n",
    "images.shape, labels.shape, numbers.shape, sum_labels.shape"
   ]
  },
  {
   "cell_type": "code",
   "execution_count": 18,
   "metadata": {},
   "outputs": [],
   "source": [
    "class Network(nn.Module):\n",
    "    def __init__(self,):\n",
    "        super().__init__()\n",
    "        \n",
    "        self.conv1 = nn.Conv2d(in_channels=1, out_channels=16, kernel_size=3) \n",
    "        self.conv2 = nn.Conv2d(in_channels=16, out_channels=32, kernel_size=3)\n",
    "        self.conv3 = nn.Conv2d(in_channels=32, out_channels=64, kernel_size=3)\n",
    "        self.fc1 = nn.Linear(in_features=1600, out_features=120)\n",
    "        self.fc2 = nn.Linear(in_features=130, out_features=60)\n",
    "        self.out1 = nn.Linear(in_features=60, out_features=10)\n",
    "        self.fc3 = nn.Linear(in_features=60, out_features=30)\n",
    "        self.out2 = nn.Linear(in_features=30, out_features=5)\n",
    "\n",
    "    def forward(self, t1, t2):\n",
    "        # input layer\n",
    "        x1 = t1\n",
    "        x2 = t2\n",
    "\n",
    "        # conv1 layer\n",
    "        x1 = self.conv1(x1) # 28 | 26\n",
    "        x1 = F.relu(x1)\n",
    "\n",
    "        # conv2 layer\n",
    "        x1 = self.conv2(x1) # 26 | 24\n",
    "        x1 = F.relu(x1)\n",
    "        x1 = F.max_pool2d(x1, kernel_size=2, stride=2) # 24 | 12\n",
    "        \n",
    "        # conv3 layer\n",
    "        x1 = self.conv3(x1) # 12 | 10\n",
    "        x1 = F.relu(x1)\n",
    "        x1 = F.max_pool2d(x1, kernel_size=2, stride=2) # 10 | 5\n",
    "\n",
    "        # flattening the tensor till dimension 1 and keeping the batches\n",
    "        x1 = x1.flatten(1) # 64 * 5 * 5 = 1600\n",
    "\n",
    "        # fc1 layer\n",
    "        x1 = self.fc1(x1) # 1600 | 120\n",
    "        x1 = F.relu(x1)\n",
    "\n",
    "        # concatenating the random number\n",
    "        x = torch.cat((x1, x2), 1) # 120 + 10 \n",
    "\n",
    "        # fc2 layer \n",
    "        x = self.fc2(x) # 130 | 60\n",
    "        x = F.relu(x)\n",
    "\n",
    "        #  out1 layer\n",
    "        out1 = self.out1(x) # 60 | 10\n",
    "        out1 = F.softmax(out1, dim=1)\n",
    "\n",
    "        # fc3 layer\n",
    "        out2 = self.fc3(x) # 60 | 30\n",
    "        out2 = F.relu(out2)\n",
    "\n",
    "        # out2 layer\n",
    "\n",
    "        out2 = self.out2(out2) # 30 | 5\n",
    "        out2 = F.softmax(out2, dim=1)\n",
    "\n",
    "        return out1, out2\n"
   ]
  },
  {
   "cell_type": "code",
   "execution_count": 19,
   "metadata": {},
   "outputs": [],
   "source": [
    "network = Network()"
   ]
  },
  {
   "cell_type": "code",
   "execution_count": 21,
   "metadata": {},
   "outputs": [
    {
     "data": {
      "text/plain": [
       "(tensor([[0.1026, 0.1005, 0.0932, 0.1063, 0.0921, 0.0931, 0.0892, 0.0993, 0.1138,\n",
       "          0.1099]], grad_fn=<SoftmaxBackward0>),\n",
       " tensor([[0.1850, 0.1893, 0.1850, 0.2045, 0.2361]], grad_fn=<SoftmaxBackward0>))"
      ]
     },
     "execution_count": 21,
     "metadata": {},
     "output_type": "execute_result"
    }
   ],
   "source": [
    "out1, out2 = network(image.unsqueeze(0), number.unsqueeze(0))\n",
    "out1, out2"
   ]
  },
  {
   "cell_type": "code",
   "execution_count": 43,
   "metadata": {},
   "outputs": [
    {
     "data": {
      "text/plain": [
       "(tensor([0., 0., 0., 1., 1.], grad_fn=<SelectBackward0>),\n",
       " tensor([0., 0., 0., 1., 0.]),\n",
       " tensor(False))"
      ]
     },
     "execution_count": 43,
     "metadata": {},
     "output_type": "execute_result"
    }
   ],
   "source": [
    "sum_labels[sum_labels > 0] = 1\n",
    "sum_labels\n",
    "\n",
    "out1, out2 = network(images, numbers)\n",
    "_, indices = torch.topk(out2,2)\n",
    "out2[0][indices[0]] = 1.\n",
    "out2[0][out2[0] < 1] = 0.\n",
    "out2[0], sum_labels[0], torch.all(out2[0].eq(sum_labels))\n"
   ]
  },
  {
   "cell_type": "code",
   "execution_count": 39,
   "metadata": {},
   "outputs": [],
   "source": [
    "def get_preds_correct(preds, labels):\n",
    "    return preds.argmax(dim=1).eq(labels).sum().item()\n",
    "\n",
    "def get_preds_sum_correct(preds, labels, batch_size):\n",
    "    count = 0\n",
    "    labels[labels > 0] = 1.0 \n",
    "    _, indices = torch.topk(preds, 2)\n",
    "    for i in range(batch_size):\n",
    "        preds[i][indices[i]] = 1.\n",
    "    preds[preds<1] = 0.\n",
    "    for i in range(batch_size):\n",
    "        if torch.all(labels.eq(preds)):\n",
    "            count += 1\n",
    "    return count"
   ]
  },
  {
   "cell_type": "code",
   "execution_count": 41,
   "metadata": {},
   "outputs": [
    {
     "data": {
      "text/plain": [
       "(4, 0)"
      ]
     },
     "execution_count": 41,
     "metadata": {},
     "output_type": "execute_result"
    }
   ],
   "source": [
    "get_preds_correct(out1, labels), get_preds_sum_correct(out2, sum_labels, 32)"
   ]
  },
  {
   "attachments": {},
   "cell_type": "markdown",
   "metadata": {},
   "source": [
    "### Testing if everything is working fine"
   ]
  },
  {
   "cell_type": "code",
   "execution_count": 22,
   "metadata": {},
   "outputs": [
    {
     "name": "stdout",
     "output_type": "stream",
     "text": [
      "loss1: 2.302129030227661 1.6072063446044922\n",
      "loss2: 2.3008387088775635 1.606134057044983\n"
     ]
    }
   ],
   "source": [
    "import torch.optim as optim\n",
    "\n",
    "mnist_with_numbers = MNISTWithNumbers()\n",
    "\n",
    "train_loader = torch.utils.data.DataLoader(\n",
    "    mnist_with_numbers,\n",
    "    batch_size=BATCH_SIZE,\n",
    "    shuffle=True\n",
    ")\n",
    "\n",
    "network = Network()\n",
    "\n",
    "optimizer = optim.Adam(network.parameters(), lr=0.001)\n",
    "\n",
    "batch = next(iter(train_loader)) #get batch\n",
    "images, labels, numbers, sum_labels = batch\n",
    "pred_labels, pred_sums = network(images, numbers)\n",
    "loss_image = F.cross_entropy(pred_labels, labels) # calculating loss for image\n",
    "loss_sum = F.cross_entropy(pred_sums, sum_labels) # calculating loss for sum\n",
    "\n",
    "loss_image.backward(retain_graph=True) #calculate gradients\n",
    "loss_sum.backward()\n",
    "optimizer.step() #update weights\n",
    "\n",
    "print('loss1:', loss_image.item(), loss_sum.item())\n",
    "pred_labels, pred_sums = network(images, numbers)\n",
    "loss_image = F.cross_entropy(pred_labels, labels) \n",
    "loss_sum = F.cross_entropy(pred_sums, sum_labels)\n",
    "print('loss2:',loss_image.item(), loss_sum.item())"
   ]
  },
  {
   "cell_type": "code",
   "execution_count": null,
   "metadata": {},
   "outputs": [],
   "source": [
    "for epoch in range(EPOCH):\n",
    "    \n",
    "    total_correct_MNIST = 0\n",
    "    total_correct_sum = 0\n",
    "    total_loss_MNIST = 0\n",
    "    total_loss_sum = 0\n",
    "    total_size = 0\n",
    "\n",
    "    for batch in train_loader:\n",
    "        images, labels, numbers, sum_labels = batch\n",
    "        pred_images, pred_sums = network(images, numbers)\n",
    "        loss_image = F.cross_entropy(pred_images, labels) # calculating loss for image\n",
    "        loss_sum = F.cross_entropy(pred_sums, sum_labels) # calculating loss for sum\n",
    "\n",
    "        optimizer.zero_grad() # set the grads to zero \n",
    "        loss_image.backward(retain_graph=True)\n",
    "        loss_sum.backward()\n",
    "        optimizer.step() # update weights\n",
    "\n",
    "        total_loss_MNIST += loss_image.item()\n",
    "        total_correct_MNIST += get_preds_correct(pred_images, labels)\n",
    "        total_size += \n",
    "\n",
    "    print(\n",
    "    \"epoch:\", epoch,\n",
    "    \"total_correct:\", total_correct,\n",
    "    \"loss:\", total_loss\n",
    "    )"
   ]
  },
  {
   "cell_type": "code",
   "execution_count": null,
   "metadata": {},
   "outputs": [],
   "source": []
  }
 ],
 "metadata": {
  "kernelspec": {
   "display_name": "Python 3",
   "language": "python",
   "name": "python3"
  },
  "language_info": {
   "codemirror_mode": {
    "name": "ipython",
    "version": 3
   },
   "file_extension": ".py",
   "mimetype": "text/x-python",
   "name": "python",
   "nbconvert_exporter": "python",
   "pygments_lexer": "ipython3",
   "version": "3.9.13"
  },
  "orig_nbformat": 4,
  "vscode": {
   "interpreter": {
    "hash": "48c2112a8328d33382c63d86ada5a19139318595a90575a431b9665a806e2427"
   }
  }
 },
 "nbformat": 4,
 "nbformat_minor": 2
}
